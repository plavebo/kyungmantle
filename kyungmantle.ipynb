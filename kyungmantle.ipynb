{
 "cells": [
  {
   "cell_type": "code",
   "execution_count": 1,
   "id": "9565086d",
   "metadata": {},
   "outputs": [
    {
     "name": "stderr",
     "output_type": "stream",
     "text": [
      "C:\\Users\\1004t\\anaconda3\\Lib\\site-packages\\botocore\\utils.py:15: DeprecationWarning: 'cgi' is deprecated and slated for removal in Python 3.13\n",
      "  import cgi\n"
     ]
    }
   ],
   "source": [
    "import os\n",
    "import pdfplumber\n",
    "import konlpy\n",
    "import re\n",
    "import PIL\n",
    "from tqdm import tqdm\n",
    "import pandas as pd\n",
    "import matplotlib.pyplot as plt\n",
    "import seaborn as sns\n",
    "from wordcloud import WordCloud\n",
    "import numpy as np\n",
    "import json\n",
    "from mlxtend.preprocessing import TransactionEncoder\n",
    "from mlxtend.frequent_patterns import apriori, association_rules\n",
    "import networkx as nx\n",
    "from gensim.models import Word2Vec\n",
    "import random\n",
    "from IPython.display import clear_output\n",
    "import time"
   ]
  },
  {
   "cell_type": "markdown",
   "id": "44e5d11c",
   "metadata": {},
   "source": [
    "# 연관 분석"
   ]
  },
  {
   "cell_type": "code",
   "execution_count": 2,
   "id": "cd7cd7b0",
   "metadata": {},
   "outputs": [
    {
     "name": "stdout",
     "output_type": "stream",
     "text": [
      "Size of transactions :  474\n"
     ]
    }
   ],
   "source": [
    "# 페이지 별로 단어 그룹화\n",
    "json_name = 'pdf_data.json'\n",
    "with open(json_name, 'r', encoding='utf-8') as f:\n",
    "    data = json.load(f)\n",
    "\n",
    "transactions = []\n",
    "\n",
    "for pages in data.values():\n",
    "    for nouns in pages.values():\n",
    "        tmp = []\n",
    "        for noun in nouns['noun']:\n",
    "            if noun:\n",
    "                tmp.extend(noun)\n",
    "        transactions.append(tmp)\n",
    "print('Size of transactions : ', len(transactions))\n",
    "        \n",
    "te = TransactionEncoder()\n",
    "te_array = te.fit(transactions).transform(transactions)\n",
    "df = pd.DataFrame(te_array, columns=te.columns_)\n",
    "\n",
    "frequent_itemsets = apriori(df, min_support=0.01, use_colnames=True)\n",
    "rules = association_rules(frequent_itemsets, metric='confidence', min_threshold=0.6, num_itemsets=len(frequent_itemsets))"
   ]
  },
  {
   "cell_type": "code",
   "execution_count": 3,
   "id": "93527d75",
   "metadata": {
    "scrolled": false
   },
   "outputs": [],
   "source": [
    "rules_sort = rules.sort_values('lift', ascending=False)"
   ]
  },
  {
   "cell_type": "markdown",
   "id": "fb15c93c",
   "metadata": {},
   "source": [
    "# Word2Vec"
   ]
  },
  {
   "cell_type": "code",
   "execution_count": 4,
   "id": "06772281",
   "metadata": {},
   "outputs": [],
   "source": [
    "# with open('pdf_data.json', 'r', encoding='utf-8') as f:\n",
    "#     data = json.load(f)\n",
    "word2vecList = []\n",
    "for page in data.values():\n",
    "    for nouns in page.values():\n",
    "        for noun in nouns['noun']:\n",
    "            if noun:\n",
    "                word2vecList.append(noun)\n",
    "model = Word2Vec(word2vecList, vector_size=100, window=5, min_count=1, workers=4)"
   ]
  },
  {
   "cell_type": "code",
   "execution_count": 5,
   "id": "ebd3a02e",
   "metadata": {},
   "outputs": [
    {
     "data": {
      "text/plain": [
       "0.6416816"
      ]
     },
     "execution_count": 5,
     "metadata": {},
     "output_type": "execute_result"
    }
   ],
   "source": [
    "model.wv.similarity('데이터', '분석')"
   ]
  },
  {
   "cell_type": "markdown",
   "id": "eb5bd626",
   "metadata": {},
   "source": [
    "# 꼬맨틀"
   ]
  },
  {
   "cell_type": "code",
   "execution_count": 6,
   "id": "f1c742f7",
   "metadata": {},
   "outputs": [
    {
     "data": {
      "text/plain": [
       "973"
      ]
     },
     "execution_count": 6,
     "metadata": {},
     "output_type": "execute_result"
    }
   ],
   "source": [
    "# 단어 목록 생성\n",
    "nounList = []\n",
    "for nouns in word2vecList:\n",
    "    for noun in nouns:\n",
    "        nounList.append(noun)\n",
    "nounList = set(nounList)\n",
    "len(nounList)"
   ]
  },
  {
   "cell_type": "code",
   "execution_count": 8,
   "id": "eb5d5211",
   "metadata": {},
   "outputs": [],
   "source": [
    "# 정답 단어 선정\n",
    "def answer_word():\n",
    "    filtered_words = [word for word in nounList if len(word) >= 2]\n",
    "\n",
    "    if filtered_words:  # 필터링 결과가 비어 있지 않은 경우\n",
    "        random_word = random.choice(filtered_words)\n",
    "    return random_word"
   ]
  },
  {
   "cell_type": "code",
   "execution_count": 9,
   "id": "210239f6",
   "metadata": {},
   "outputs": [],
   "source": [
    "# 유사 단어 순위 매기기\n",
    "def ranking(answer):\n",
    "    ranking = []\n",
    "\n",
    "    for noun in nounList:\n",
    "        similar = model.wv.similarity(noun, answer)\n",
    "        ranking.append({noun : similar})\n",
    "\n",
    "    # 내림차순 정렬\n",
    "    sorted_ranking = sorted(ranking, key=lambda x: list(x.values())[0], reverse=True)\n",
    "    sorted_ranking = sorted_ranking[:100]\n",
    "    return sorted_ranking"
   ]
  },
  {
   "cell_type": "code",
   "execution_count": 10,
   "id": "493f3e9a",
   "metadata": {
    "scrolled": false
   },
   "outputs": [],
   "source": [
    "# 유사도 계산 및 순위 출력\n",
    "def calc_similarity(answer, word):\n",
    "    rank = None\n",
    "    try:\n",
    "        similarity = model.wv.similarity(answer, word)\n",
    "    except:\n",
    "        print('데이터셋에 없는 단어입니다.')\n",
    "        return None, None\n",
    "    for index, dictionary in enumerate(sorted_ranking):\n",
    "        if dictionary.get(word, None) == similarity:\n",
    "            rank = index + 1\n",
    "            break\n",
    "    return rank, similarity * 100"
   ]
  },
  {
   "cell_type": "code",
   "execution_count": 11,
   "id": "e829c415",
   "metadata": {},
   "outputs": [],
   "source": [
    "# 특정 단어에 대해 포함된 PDF 파일 이름을 찾는 함수\n",
    "def find_pdfs_containing_word(data, word):\n",
    "    pdfs_with_word = []\n",
    "    for pdf, pages in data.items():\n",
    "        for page, content in pages.items():\n",
    "            # Check if the word exists in the 'noun' list\n",
    "            for noun_list in content['noun']:\n",
    "                if word in noun_list:\n",
    "                    pdfs_with_word.append(pdf)\n",
    "                    break  # Move to the next PDF once the word is found\n",
    "    return list(set(pdfs_with_word))  # Remove duplicates"
   ]
  },
  {
   "cell_type": "code",
   "execution_count": 12,
   "id": "8c35c1ab",
   "metadata": {},
   "outputs": [
    {
     "name": "stdout",
     "output_type": "stream",
     "text": [
      "Let's play 경맨틀!!!\n",
      "10번째로 유사한 단어의 유사도는 24.12이고 50번째로 유사한 단어의 유사도는 18.21 입니다.\n",
      "\n",
      "=== 입력한 단어의 기록 ===\n",
      "# 1 단어: 유사한, 순위: None, 유사도: 4.644\n",
      "입력한 단어 \"유사한\"의 순위는 None, 유사도는 4.644 입니다.\n",
      "--------------------------------------------------\n"
     ]
    },
    {
     "ename": "KeyboardInterrupt",
     "evalue": "Interrupted by user",
     "output_type": "error",
     "traceback": [
      "\u001b[1;31m---------------------------------------------------------------------------\u001b[0m",
      "\u001b[1;31mKeyboardInterrupt\u001b[0m                         Traceback (most recent call last)",
      "Cell \u001b[1;32mIn[12], line 29\u001b[0m\n\u001b[0;32m     26\u001b[0m \u001b[38;5;28mprint\u001b[39m(\u001b[38;5;124m'\u001b[39m\u001b[38;5;124m-\u001b[39m\u001b[38;5;124m'\u001b[39m\u001b[38;5;241m*\u001b[39m\u001b[38;5;241m50\u001b[39m)\n\u001b[0;32m     28\u001b[0m \u001b[38;5;66;03m# 사용자 입력\u001b[39;00m\n\u001b[1;32m---> 29\u001b[0m word \u001b[38;5;241m=\u001b[39m \u001b[38;5;28minput\u001b[39m(\u001b[38;5;124m'\u001b[39m\u001b[38;5;124m입력 단어 : \u001b[39m\u001b[38;5;124m'\u001b[39m)\u001b[38;5;241m.\u001b[39mstrip()\n\u001b[0;32m     30\u001b[0m \u001b[38;5;28;01mif\u001b[39;00m \u001b[38;5;129;01mnot\u001b[39;00m word:\n\u001b[0;32m     31\u001b[0m     \u001b[38;5;28mprint\u001b[39m(\u001b[38;5;124m\"\u001b[39m\u001b[38;5;124m단어를 입력해주세요!\u001b[39m\u001b[38;5;124m\"\u001b[39m)\n",
      "File \u001b[1;32m~\\anaconda3\\Lib\\site-packages\\ipykernel\\kernelbase.py:1175\u001b[0m, in \u001b[0;36mKernel.raw_input\u001b[1;34m(self, prompt)\u001b[0m\n\u001b[0;32m   1171\u001b[0m \u001b[38;5;28;01mif\u001b[39;00m \u001b[38;5;129;01mnot\u001b[39;00m \u001b[38;5;28mself\u001b[39m\u001b[38;5;241m.\u001b[39m_allow_stdin:\n\u001b[0;32m   1172\u001b[0m     \u001b[38;5;28;01mraise\u001b[39;00m StdinNotImplementedError(\n\u001b[0;32m   1173\u001b[0m         \u001b[38;5;124m\"\u001b[39m\u001b[38;5;124mraw_input was called, but this frontend does not support input requests.\u001b[39m\u001b[38;5;124m\"\u001b[39m\n\u001b[0;32m   1174\u001b[0m     )\n\u001b[1;32m-> 1175\u001b[0m \u001b[38;5;28;01mreturn\u001b[39;00m \u001b[38;5;28mself\u001b[39m\u001b[38;5;241m.\u001b[39m_input_request(\n\u001b[0;32m   1176\u001b[0m     \u001b[38;5;28mstr\u001b[39m(prompt),\n\u001b[0;32m   1177\u001b[0m     \u001b[38;5;28mself\u001b[39m\u001b[38;5;241m.\u001b[39m_parent_ident[\u001b[38;5;124m\"\u001b[39m\u001b[38;5;124mshell\u001b[39m\u001b[38;5;124m\"\u001b[39m],\n\u001b[0;32m   1178\u001b[0m     \u001b[38;5;28mself\u001b[39m\u001b[38;5;241m.\u001b[39mget_parent(\u001b[38;5;124m\"\u001b[39m\u001b[38;5;124mshell\u001b[39m\u001b[38;5;124m\"\u001b[39m),\n\u001b[0;32m   1179\u001b[0m     password\u001b[38;5;241m=\u001b[39m\u001b[38;5;28;01mFalse\u001b[39;00m,\n\u001b[0;32m   1180\u001b[0m )\n",
      "File \u001b[1;32m~\\anaconda3\\Lib\\site-packages\\ipykernel\\kernelbase.py:1217\u001b[0m, in \u001b[0;36mKernel._input_request\u001b[1;34m(self, prompt, ident, parent, password)\u001b[0m\n\u001b[0;32m   1214\u001b[0m             \u001b[38;5;28;01mbreak\u001b[39;00m\n\u001b[0;32m   1215\u001b[0m \u001b[38;5;28;01mexcept\u001b[39;00m \u001b[38;5;167;01mKeyboardInterrupt\u001b[39;00m:\n\u001b[0;32m   1216\u001b[0m     \u001b[38;5;66;03m# re-raise KeyboardInterrupt, to truncate traceback\u001b[39;00m\n\u001b[1;32m-> 1217\u001b[0m     \u001b[38;5;28;01mraise\u001b[39;00m \u001b[38;5;167;01mKeyboardInterrupt\u001b[39;00m(\u001b[38;5;124m\"\u001b[39m\u001b[38;5;124mInterrupted by user\u001b[39m\u001b[38;5;124m\"\u001b[39m) \u001b[38;5;28;01mfrom\u001b[39;00m \u001b[38;5;28;01mNone\u001b[39;00m\n\u001b[0;32m   1218\u001b[0m \u001b[38;5;28;01mexcept\u001b[39;00m \u001b[38;5;167;01mException\u001b[39;00m:\n\u001b[0;32m   1219\u001b[0m     \u001b[38;5;28mself\u001b[39m\u001b[38;5;241m.\u001b[39mlog\u001b[38;5;241m.\u001b[39mwarning(\u001b[38;5;124m\"\u001b[39m\u001b[38;5;124mInvalid Message:\u001b[39m\u001b[38;5;124m\"\u001b[39m, exc_info\u001b[38;5;241m=\u001b[39m\u001b[38;5;28;01mTrue\u001b[39;00m)\n",
      "\u001b[1;31mKeyboardInterrupt\u001b[0m: Interrupted by user"
     ]
    }
   ],
   "source": [
    "answer = answer_word()\n",
    "sorted_ranking = ranking(answer)\n",
    "pdf_hint = find_pdfs_containing_word(data, answer)\n",
    "\n",
    "# 입력 단어 기록\n",
    "used_words = set()\n",
    "history = []\n",
    "c = 1\n",
    "latest=''\n",
    "\n",
    "\n",
    "while True:\n",
    "    clear_output()  # 이전 출력 내용 삭제\n",
    "    print(\"Let's play 경맨틀!!!\")\n",
    "    \n",
    "    # 결과 히스토리 출력\n",
    "    tenth = [float(value) for value in sorted_ranking[9].values()]\n",
    "    fifty = [float(value) for value in sorted_ranking[49].values()]\n",
    "    print(f'10번째로 유사한 단어의 유사도는 {tenth[0]*100:.2f}이고 50번째로 유사한 단어의 유사도는 {fifty[0]*100:.2f} 입니다.')\n",
    "    print(\"\\n=== 입력한 단어의 기록 ===\")\n",
    "    for h_c, h_word, h_rank, h_similarity in sorted(history, key=lambda x: x[3], reverse=True):\n",
    "        rank_text = \"None\" if h_rank is None else h_rank\n",
    "        print(f'# {h_c} 단어: {h_word}, 순위: {rank_text}, 유사도: {h_similarity:.3f}')\n",
    "        \n",
    "    print(latest)\n",
    "    print('-'*50)\n",
    "    \n",
    "    # 사용자 입력\n",
    "    word = input('입력 단어 : ').strip()\n",
    "    if not word:\n",
    "        print(\"단어를 입력해주세요!\")\n",
    "        time.sleep(2)\n",
    "        continue\n",
    "        \n",
    "    if word == '포기':\n",
    "        print(f\"정답은 '{answer}'입니다.\")\n",
    "        break\n",
    "        \n",
    "    if word == '힌트':\n",
    "        hint = random.choice(pdf_hint)\n",
    "        print(f'정답 단어는 {hint} 파일에 있을 수도 있습니다.')\n",
    "        time.sleep(2)\n",
    "        continue\n",
    "        \n",
    "    if word in used_words:\n",
    "        print(f'\"{word}\"는 이미 입력한 단어입니다. 다른 단어를 입력해주세요!')\n",
    "        # 연관된 단어 검색 및 출력\n",
    "        related_rules = rules_sort[rules_sort['antecedents'].apply(lambda x: word in x)]\n",
    "        if not related_rules.empty:\n",
    "            print(f'입력한 단어 \"{word}\"와 연관된 단어:')\n",
    "            for _, row in related_rules[:3].iterrows():\n",
    "                print(f\" - {row['consequents']} (신뢰도: {row['confidence']:.2f})\")\n",
    "        else:\n",
    "            print(f'입력한 단어 \"{word}\"와 연관된 단어가 없습니다.')\n",
    "        time.sleep(2)\n",
    "        continue\n",
    "\n",
    "    # 유사도 계산\n",
    "    rank, similarity = calc_similarity(answer, word)\n",
    "    if similarity is not None:\n",
    "        used_words.add(word)\n",
    "        history.append((c, word, rank, similarity))\n",
    "        c += 1\n",
    "        latest = f'입력한 단어 \"{word}\"의 순위는 {rank}, 유사도는 {similarity:.3f} 입니다.'\n",
    "        print(latest)\n",
    "        print('-'*50)\n",
    "        # 정답 체크\n",
    "        if word == answer:\n",
    "            print(f\"축하합니다! 정답은 '{answer}' 입니다!\")\n",
    "            break\n",
    "        \n",
    "        # 연관된 단어 검색 및 출력\n",
    "        related_rules = rules_sort[rules_sort['antecedents'].apply(lambda x: word in x)]\n",
    "        if not related_rules.empty:\n",
    "            print(f'입력한 단어 \"{word}\"와 연관된 단어:')\n",
    "            for _, row in related_rules[:3].iterrows():\n",
    "                print(f\" - {row['consequents']} (신뢰도: {row['confidence']:.2f})\")\n",
    "        else:\n",
    "            print(f'입력한 단어 \"{word}\"와 연관된 단어가 없습니다.')\n",
    "\n",
    "        print('-' * 50)\n",
    "        time.sleep(2)\n",
    "    else:\n",
    "        time.sleep(2)"
   ]
  },
  {
   "cell_type": "code",
   "execution_count": 115,
   "id": "7116014c",
   "metadata": {},
   "outputs": [
    {
     "name": "stdout",
     "output_type": "stream",
     "text": [
      "['유사한', '패키지', '연산', '퍼셉트론', '문제', '텍스트', '복사', '공백', '중첩', '명령어']\n",
      "['생성', '수집', '간주', '분류표', '저축률', '조정해', '결정', '추세', '기존', '아무것']\n",
      "['시냅스', '목표', '내장', '정상', '분류기', '빈번', '자료', '세포', '시리즈', '성립']\n",
      "['경우', '산만', '파생변수', '데', '축소', '분석하기', '이웃', '증가', '지점', '도달']\n",
      "['계층', '경향성', '직사각형', '워드', '빈도', '집단별', '날짜', '검토', '별도', '나열']\n",
      "['반', '검색하기', '대통령의', '막대', '이하', '나누기', '신경', '라', '마케팅', '정규']\n",
      "['제조', '번호', '출마', '표현함', '아래', '조합해', '대문자', '개체들', '판단', '자동차들']\n",
      "['열', '코드들', '부여', '동사', '군집', '만족', '메서드', '이름', '특정', '실제']\n",
      "['수영', '구조', '가격', '여성', '군집분석', '문', '하나', '정의', '백분율', '정제됨']\n",
      "['언어', '격', '표현', '구성', '정확', '조합', '전역최적해', '정리하기', '문장', '중심']\n",
      "['처음', '특성', '둠', '반환', '결과', '추정', '해상', '사후', '랜덤포레스트', '평가']\n",
      "['방식', '전륜구동', '전', '커널', '몇', '괄호', '사륜구동', '정제', '수평', '공동']\n",
      "['데이터마이닝', '분류', '확인하기', '특징', '이중분할', '나', '따름', '년', '설치', '상태']\n",
      "['크기순', '종', '표시하기', '인코딩', '개발', '정렬하세요', '환율', '대부분', '사분위', '정제하기']\n",
      "['연설문', '오름차', '충분한', '속성', '부족', '하강법', '후륜구동', '병합형', '원리', '꼬꼬마']\n",
      "['부재', '측면', '네이버책', '수박', '수정됨', '대중적', '템', '오차', '띄어쓰기', '척도']\n",
      "['하위', '적합', '저장하기', '손실', '업데이트', '반복학습', '탐욕적전략', '강', '알파', '외부']\n",
      "['과학', '아시아', '개수', '가지치기', '중', '간편', '차원', '장르', '지역적', '정지']\n",
      "['버튼', '장단점', '에러', '유지하기', '학습데이터', '치트', '학생', '숫자', '접근법', '불규칙']\n",
      "['최적화', '초', '줄', '파악하기', '적응력', '하한', '유사', '결합하기', '절대거리', '진행']\n",
      "['셀', '계산', '시트', '코사', '가능성', '유용성', '행렬', '메시지', '정렬', '역전파']\n",
      "['불순도', '내재', '조', '차이', '통일', '기본값', '차별성', '복잡', '저하', '무엇']\n",
      "['부', '설명', '규칙들', '변형', '포함', '도메인', '배기량', '통계', '관찰점', '어절들']\n",
      "['앞부분', '항목들', '개인화', '항목', '일부', '유지', '형태소', '표시', '조합하기', '이용해']\n",
      "['개', '경', '고속도로', '등급', '합계', '논리적', '슬라이드', '처리하기', '평균표', '작성']\n",
      "['크기', '일반적', '양상', '세분화', '목표함수', '인접성', '기본', '중간', '제공', '연료별']\n",
      "['대체법', '유의', '해석', '퍼지', '액션', '영어', '됨', '유용', '공식', '지역별']\n",
      "['기능', '프레', '연관분석', '배치', '은', '컬럼', '내용', '사용', '목록', '등']\n",
      "['일별', '다음', '조건문', '초과', '하자', '교보문', '세계로', '으', '미성년', '결']\n",
      "['간결함', '방탄소년단', '선호도', '처리', '과일', '원', '통계적', '가능', '불가', '분석하항목']\n",
      "['입력해', '분리', '보장', '임의', '결과물', '불순', '을', '극단치', '데스트톱', '공분산']\n",
      "['월별', '평균', '이상', '실행', '소식', '이진', '대비', '연', '지역', '시계열']\n",
      "['고정', '결측치', '뉴런', '핫', '확률변수', '학생들', '모양', '점', '기준값', '보정']\n",
      "['오류', '다운로드', '가중', '파일', '준비하기', '비트', '큰따옴표', '계층적', '내', '나이']\n",
      "['때까지', '단백질', '출력하기', '변수별', '적법', '초기', '유사성', '축약어로', '파', '해결']\n",
      "['운영', '대', '뒷부분', '규칙', '가공', '선호', '산점', '특이값', '이미지', '맥']\n",
      "['알라딘', '시도', '강도', '예시', '서양', '부분집합', '확인', '하기', '분포', '글자']\n",
      "['전달', '국지적', '개별적', '기반', '이내', '과', '나무', '어디', '응용', '시험']\n",
      "['묶음', '맞춤형', '차종', '시', '설정하기', '연장', '두', '형성', '인공신경망', '정확도']\n",
      "['체제', '추가하기', '구분', '네이버', '한', '몸무게', '변동성', '탐색', '제거하기', '끝']\n",
      "['회전하기', '나사', '색깔', '뿐', '이상한', '궁금', '위험', '계산비용', '동', '해결하기']\n",
      "['네트워크', '체계', '표준편차', '합집합', '단', '확', '필요', '리스트', '가중치', '기초']\n",
      "['엑셀', '구매', '지식', '그것', '밑', '임', '마이닝', '미만', '저주', '역치']\n",
      "['제시', '이', '영화', '이하인', '트랜잭션', '비교횟수', '순위', '특수', '비교하기', '분석']\n",
      "['연결', '이용하세요', '표현하기', '방법', '판매량', '행동', '변환하기', '협업', '로', '관계']\n",
      "['간단', '감소량', '모형', '기사', '한눈', '통계량', '소득', '대푯값', '분할표', '희박성']\n",
      "['빈', '남', '측도', '문자', '파악', '가닥들', '중심점', '히스토그램', '초기화', '학습률']\n",
      "['보조', '감소', '활용하세요', '군집화', '폭', '표현식', '백슬래시', '관심', '장', '로드하기']\n",
      "['종양', '중간고사', '대표값', '학습', '작업', '대상', '생략함', '모듈명', '뇌', '활용']\n",
      "['비슷한', '정열값', '다중분할', '적', '집단', '다섯', '추', '구문', '작동함', '분할']\n",
      "['산술평균', '한나눔', '클라우드보다', '비율', '테스트', '신뢰도', '계산량', '콘텐츠', '설정하세요', '정리']\n",
      "['근접', '분할형', '후', '왜곡', '중지', '길이', '방법론들', '를', '단점', '케이스']\n",
      "['대해', '정', '주성분', '기준', '예측값', '모션', '수정해도', '것', '둘', '기말고사']\n",
      "['정도', '기호', '구축', '분할지점', '요소', '변화', '평', '유사도', '전처리', '도움']\n",
      "['가독성', '사분위수', '연관', '존재', '결합', '목차', '상자', '마술', '곳', '전역']\n",
      "['의사결정', '다양', '남성들', '출력', '불필요', '이해', '클라우드', '세기', '일정', '논리표']\n",
      "['논점', '활용하기', '범주', '평균값', '점수화', '채', '구름', '제거됨', '적절한', '버티컬']\n",
      "['빈도표', '링크', '연월일', '품사', '제한', '적용', '사용해', '전체', '분류한', '박동현']\n",
      "['자동차', '벡터', '양성', '단시간', '지정하기', '상위', '색', '조건', '저장', '필적']\n",
      "['회사', '고객관계', '반복', '종류별', '종류', '도', '메타데이터', '윈도우', '지정', '경제지표']\n",
      "['사용자들', '함축적', '예측', '사전', '최종적', '속도', '때문', '관리', '차례', '주석']\n",
      "['합격', '적용하기', '버전', '컴퓨터', '한글', '코드', '각', '발견', '위', '바']\n",
      "['값', '경사', '목적함수', '상호연결', '쪽', '온라인', '명', '측정', '생김', '표식']\n",
      "['취향', '합', '남성', '도시', '타당한', '판정', '수학', '효과적', '복사본', '그룹']\n",
      "['통합', '합치기', '일괄', '사용하기', '과정', '좌우', '타입', '불필요한', '함수', '원본']\n",
      "['클릭해', '변환', '순서', '빌보드', '동시', '성', '추천', '행', '주의하기', '재고']\n",
      "['섬유', '일곱', '정렬하기', '베이시안', '항목집합이면', '외', '미국', '관점', '자', '시작점']\n",
      "['컬러맵', '별개', '이용하기', '비단조형', '변수', '최적', '상한', '분야', '사', '성질']\n",
      "['설정', '세로', '설치하기', '선택', '기법', '클래스', '쓰기', '자바', '김지훈', '따옴표']\n",
      "['월', '시각', '시간', '효율적', '요약하기', '단순', '연비', '단계', '워킹', '알고리즘']\n",
      "['파이썬', '메뉴', '복잡도', '디렉터리', '악성', '명사', '표', '지정해', '쟁점', '인구']\n",
      "['인구통계', '오차합', '후보', '패턴', '분해', '개요', '축색돌기', '신뢰성', '가로', '병합']\n",
      "['분석시', '할당', '앞', '동북중부', '려움', '그래프', '구동', '장치', '변경', '대응']\n",
      "['형용사', '세', '변수명', '보완', '어', '유', '인덱스', '발생', '플랫폼', '시작']\n",
      "['그림', '중복', '활성화', '대체하기', '거리', '신뢰구간', '동양인', '이유진', '잡음', '수염']\n",
      "['방식별', '유형', '함수명', '이유', '극단적', '원소', '클릭', '일', '성장', '때']\n",
      "['연도별', '필터링', '회사별', '패션', '작은따옴표', '주요', '완전', '상단', '추가', '부터']\n",
      "['자동', '마이닝할', '수정하세요', '이상치', '제한하기', '주', '범위', '지', '매뉴얼', '집합']\n",
      "['사용자', '알파벳순', '뉴스', '입력', '사용법', '복잡도메', '분리하기', '문재', '방법론', '딸기']\n",
      "['원래', '자연적', '문법', '분석기', '접근', '지지도', '점수', '걸기', '독립', '신용카드']\n",
      "['비용', '인터랙티브', '상이', '추가하세요', '댓글', '누락', '희박', '노드', '순전파', '단어']\n",
      "['확장', '연산하기', '여부', '만듦', '영화내', '첫', '불편함', '가능한', '만큼', '개념']\n",
      "['사람', '위아래', '의사결정나무', '규칙기반', '도전', '한계치', '사이', '트리', '증', '모델']\n",
      "['사과', '혼자', '밑면', '파악하세요', '행마', '생물', '공간', '바탕', '해당', '대통령']\n",
      "['여', '아나콘다', '출처', '몸', '연료', '목적', '어트리뷰트', '편리', '주가지수', '의존']\n",
      "['생산', '엔트로피', '내림차', '격자', '폰트', '군집들', '충족', '자유자재', '연산함', '비교']\n",
      "['륜구동', '차', '객체', '제거', '동작', '약어', '합산', '모듈', '문서', '피드백']\n",
      "['수렴', '원자료', '왼쪽', '확장성', '이해하기', '명시적', '상관관계', '뒤', '출력하세요', '메모리']\n",
      "['단조', '부분', '패키지명', '절차', '제외', '제곱합', '있댜', '중요', '산점도', '줄바꿈']\n",
      "['다양한', '확인하세요', '의존성', '의', '자전거', '사양', '합병', '차구조', '만들기', '정규화']\n",
      "['프레임명', '추천시스템', '화면', '로드', '프레임', '성별', '정보', '지역최적해', '함', '번']\n",
      "['연관규칙', '미', '차트', '항목집합', '빈발', '표시됨', '추출하기', '융합', '반영하기', '단조감소']\n",
      "['할당하기', '순', '삽입', '장점', '최빈값', '사각형', '간', '그룹화', '선', '형태']\n",
      "['생략', '가공하기', '용어', '의미', '결과값', '파생', '시스템', '수행', '인간', '상하위']\n",
      "['꾸러미', '배', '주의', '딕셔너리', '요약', '지표', '성능', '선언문', '부정', '축']\n",
      "['비슷', '수', '맹목적', '어려움', '데이터', '수정', '김민지', '이용', '권장', '아시아인']\n",
      "['추출', '보세요', '체이닝', '유의미한', '위치', '체크', '연속값', '카테고리', '인접', '프롬프트']\n",
      "['중앙값', '안정적', '구체적']\n"
     ]
    }
   ],
   "source": [
    "# 단어 리스트\n",
    "for i in range(0, len(word2vecList), 10):\n",
    "    print(word2vecList[i:i+10])"
   ]
  }
 ],
 "metadata": {
  "kernelspec": {
   "display_name": "Python 3 (ipykernel)",
   "language": "python",
   "name": "python3"
  },
  "language_info": {
   "codemirror_mode": {
    "name": "ipython",
    "version": 3
   },
   "file_extension": ".py",
   "mimetype": "text/x-python",
   "name": "python",
   "nbconvert_exporter": "python",
   "pygments_lexer": "ipython3",
   "version": "3.11.4"
  }
 },
 "nbformat": 4,
 "nbformat_minor": 5
}
